{
 "cells": [
  {
   "cell_type": "code",
   "execution_count": 1,
   "id": "08b4ab5e",
   "metadata": {
    "_cell_guid": "b1076dfc-b9ad-4769-8c92-a6c4dae69d19",
    "_uuid": "8f2839f25d086af736a60e9eeb907d3b93b6e0e5",
    "execution": {
     "iopub.execute_input": "2022-04-09T19:29:51.410417Z",
     "iopub.status.busy": "2022-04-09T19:29:51.409179Z",
     "iopub.status.idle": "2022-04-09T19:29:51.418316Z",
     "shell.execute_reply": "2022-04-09T19:29:51.419047Z",
     "shell.execute_reply.started": "2022-04-09T19:13:55.182731Z"
    },
    "papermill": {
     "duration": 0.089939,
     "end_time": "2022-04-09T19:29:51.419392",
     "exception": false,
     "start_time": "2022-04-09T19:29:51.329453",
     "status": "completed"
    },
    "tags": []
   },
   "outputs": [
    {
     "name": "stdout",
     "output_type": "stream",
     "text": [
      "/kaggle/input/titanic/train.csv\n",
      "/kaggle/input/titanic/test.csv\n",
      "/kaggle/input/titanic/gender_submission.csv\n"
     ]
    }
   ],
   "source": [
    "# This Python 3 environment comes with many helpful analytics libraries installed\n",
    "# It is defined by the kaggle/python Docker image: https://github.com/kaggle/docker-python\n",
    "# For example, here's several helpful packages to load\n",
    "\n",
    "import numpy as np # linear algebra\n",
    "import pandas as pd # data processing, CSV file I/O (e.g. pd.read_csv)\n",
    "\n",
    "# Input data files are available in the read-only \"../input/\" directory\n",
    "# For example, running this (by clicking run or pressing Shift+Enter) will list all files under the input directory\n",
    "\n",
    "import os\n",
    "for dirname, _, filenames in os.walk('/kaggle/input'):\n",
    "    for filename in filenames:\n",
    "        print(os.path.join(dirname, filename))\n",
    "\n",
    "# You can write up to 20GB to the current directory (/kaggle/working/) that gets preserved as output when you create a version using \"Save & Run All\" \n",
    "# You can also write temporary files to /kaggle/temp/, but they won't be saved outside of the current session"
   ]
  },
  {
   "cell_type": "markdown",
   "id": "40a53e4e",
   "metadata": {
    "papermill": {
     "duration": 0.074311,
     "end_time": "2022-04-09T19:29:51.572738",
     "exception": false,
     "start_time": "2022-04-09T19:29:51.498427",
     "status": "completed"
    },
    "tags": []
   },
   "source": [
    "# **데이터 구하기**\n",
    "---\n",
    "어떤 사람들이 생존할 가능성이 높은지를 예측하는 모델훈련을 위한 데이터 다운로드 및 적재"
   ]
  },
  {
   "cell_type": "markdown",
   "id": "8b1d767a",
   "metadata": {
    "papermill": {
     "duration": 0.074948,
     "end_time": "2022-04-09T19:29:51.722737",
     "exception": false,
     "start_time": "2022-04-09T19:29:51.647789",
     "status": "completed"
    },
    "tags": []
   },
   "source": [
    "## **데이터 다운로드**"
   ]
  },
  {
   "cell_type": "code",
   "execution_count": 2,
   "id": "c244e7ef",
   "metadata": {
    "execution": {
     "iopub.execute_input": "2022-04-09T19:29:51.875170Z",
     "iopub.status.busy": "2022-04-09T19:29:51.874532Z",
     "iopub.status.idle": "2022-04-09T19:29:51.912947Z",
     "shell.execute_reply": "2022-04-09T19:29:51.913496Z",
     "shell.execute_reply.started": "2022-04-09T19:13:55.250249Z"
    },
    "papermill": {
     "duration": 0.116121,
     "end_time": "2022-04-09T19:29:51.913654",
     "exception": false,
     "start_time": "2022-04-09T19:29:51.797533",
     "status": "completed"
    },
    "tags": []
   },
   "outputs": [
    {
     "data": {
      "text/html": [
       "<div>\n",
       "<style scoped>\n",
       "    .dataframe tbody tr th:only-of-type {\n",
       "        vertical-align: middle;\n",
       "    }\n",
       "\n",
       "    .dataframe tbody tr th {\n",
       "        vertical-align: top;\n",
       "    }\n",
       "\n",
       "    .dataframe thead th {\n",
       "        text-align: right;\n",
       "    }\n",
       "</style>\n",
       "<table border=\"1\" class=\"dataframe\">\n",
       "  <thead>\n",
       "    <tr style=\"text-align: right;\">\n",
       "      <th></th>\n",
       "      <th>PassengerId</th>\n",
       "      <th>Survived</th>\n",
       "      <th>Pclass</th>\n",
       "      <th>Name</th>\n",
       "      <th>Sex</th>\n",
       "      <th>Age</th>\n",
       "      <th>SibSp</th>\n",
       "      <th>Parch</th>\n",
       "      <th>Ticket</th>\n",
       "      <th>Fare</th>\n",
       "      <th>Cabin</th>\n",
       "      <th>Embarked</th>\n",
       "    </tr>\n",
       "  </thead>\n",
       "  <tbody>\n",
       "    <tr>\n",
       "      <th>0</th>\n",
       "      <td>1</td>\n",
       "      <td>0</td>\n",
       "      <td>3</td>\n",
       "      <td>Braund, Mr. Owen Harris</td>\n",
       "      <td>male</td>\n",
       "      <td>22.0</td>\n",
       "      <td>1</td>\n",
       "      <td>0</td>\n",
       "      <td>A/5 21171</td>\n",
       "      <td>7.2500</td>\n",
       "      <td>NaN</td>\n",
       "      <td>S</td>\n",
       "    </tr>\n",
       "    <tr>\n",
       "      <th>1</th>\n",
       "      <td>2</td>\n",
       "      <td>1</td>\n",
       "      <td>1</td>\n",
       "      <td>Cumings, Mrs. John Bradley (Florence Briggs Th...</td>\n",
       "      <td>female</td>\n",
       "      <td>38.0</td>\n",
       "      <td>1</td>\n",
       "      <td>0</td>\n",
       "      <td>PC 17599</td>\n",
       "      <td>71.2833</td>\n",
       "      <td>C85</td>\n",
       "      <td>C</td>\n",
       "    </tr>\n",
       "    <tr>\n",
       "      <th>2</th>\n",
       "      <td>3</td>\n",
       "      <td>1</td>\n",
       "      <td>3</td>\n",
       "      <td>Heikkinen, Miss. Laina</td>\n",
       "      <td>female</td>\n",
       "      <td>26.0</td>\n",
       "      <td>0</td>\n",
       "      <td>0</td>\n",
       "      <td>STON/O2. 3101282</td>\n",
       "      <td>7.9250</td>\n",
       "      <td>NaN</td>\n",
       "      <td>S</td>\n",
       "    </tr>\n",
       "    <tr>\n",
       "      <th>3</th>\n",
       "      <td>4</td>\n",
       "      <td>1</td>\n",
       "      <td>1</td>\n",
       "      <td>Futrelle, Mrs. Jacques Heath (Lily May Peel)</td>\n",
       "      <td>female</td>\n",
       "      <td>35.0</td>\n",
       "      <td>1</td>\n",
       "      <td>0</td>\n",
       "      <td>113803</td>\n",
       "      <td>53.1000</td>\n",
       "      <td>C123</td>\n",
       "      <td>S</td>\n",
       "    </tr>\n",
       "    <tr>\n",
       "      <th>4</th>\n",
       "      <td>5</td>\n",
       "      <td>0</td>\n",
       "      <td>3</td>\n",
       "      <td>Allen, Mr. William Henry</td>\n",
       "      <td>male</td>\n",
       "      <td>35.0</td>\n",
       "      <td>0</td>\n",
       "      <td>0</td>\n",
       "      <td>373450</td>\n",
       "      <td>8.0500</td>\n",
       "      <td>NaN</td>\n",
       "      <td>S</td>\n",
       "    </tr>\n",
       "  </tbody>\n",
       "</table>\n",
       "</div>"
      ],
      "text/plain": [
       "   PassengerId  Survived  Pclass  \\\n",
       "0            1         0       3   \n",
       "1            2         1       1   \n",
       "2            3         1       3   \n",
       "3            4         1       1   \n",
       "4            5         0       3   \n",
       "\n",
       "                                                Name     Sex   Age  SibSp  \\\n",
       "0                            Braund, Mr. Owen Harris    male  22.0      1   \n",
       "1  Cumings, Mrs. John Bradley (Florence Briggs Th...  female  38.0      1   \n",
       "2                             Heikkinen, Miss. Laina  female  26.0      0   \n",
       "3       Futrelle, Mrs. Jacques Heath (Lily May Peel)  female  35.0      1   \n",
       "4                           Allen, Mr. William Henry    male  35.0      0   \n",
       "\n",
       "   Parch            Ticket     Fare Cabin Embarked  \n",
       "0      0         A/5 21171   7.2500   NaN        S  \n",
       "1      0          PC 17599  71.2833   C85        C  \n",
       "2      0  STON/O2. 3101282   7.9250   NaN        S  \n",
       "3      0            113803  53.1000  C123        S  \n",
       "4      0            373450   8.0500   NaN        S  "
      ]
     },
     "execution_count": 2,
     "metadata": {},
     "output_type": "execute_result"
    }
   ],
   "source": [
    "# 데이터셋 불러오기\n",
    "train = pd.read_csv('/kaggle/input/titanic/train.csv') # 훈련셋\n",
    "test = pd.read_csv('/kaggle/input/titanic/test.csv') # 테스트셋\n",
    "\n",
    "train.head()"
   ]
  },
  {
   "cell_type": "markdown",
   "id": "c06debe8",
   "metadata": {
    "papermill": {
     "duration": 0.076893,
     "end_time": "2022-04-09T19:29:52.068513",
     "exception": false,
     "start_time": "2022-04-09T19:29:51.991620",
     "status": "completed"
    },
    "tags": []
   },
   "source": [
    "* Survived: 생존 여부 / 0 = No, 1 = Yes\n",
    "* Pclass: 티켓 등급 / 1 = 1st, 2 = 2nd, 3 = 3rd\n",
    "* Sex: 성별\n",
    "* Age: 나이\n",
    "* Sibsp: 함께 탑승한 형제자매, 배우자의 수\n",
    "* Parch: 함께 탑승한 부모, 자식의 수\n",
    "* Ticket: 티켓 번호\n",
    "* Fare: 운임(in pounds)\n",
    "* Cabin: 객실 번호\n",
    "* Embarked: 탑승 항구 / C = Cherbourg, Q = Queenstown, S = Southampton"
   ]
  },
  {
   "cell_type": "markdown",
   "id": "6a88ab60",
   "metadata": {
    "papermill": {
     "duration": 0.075874,
     "end_time": "2022-04-09T19:29:52.220417",
     "exception": false,
     "start_time": "2022-04-09T19:29:52.144543",
     "status": "completed"
    },
    "tags": []
   },
   "source": [
    "## **데이터 구조 훑어보기**"
   ]
  },
  {
   "cell_type": "code",
   "execution_count": 3,
   "id": "3b10ec8e",
   "metadata": {
    "execution": {
     "iopub.execute_input": "2022-04-09T19:29:52.374995Z",
     "iopub.status.busy": "2022-04-09T19:29:52.374307Z",
     "iopub.status.idle": "2022-04-09T19:29:53.193154Z",
     "shell.execute_reply": "2022-04-09T19:29:53.193790Z",
     "shell.execute_reply.started": "2022-04-09T19:13:55.335299Z"
    },
    "papermill": {
     "duration": 0.897514,
     "end_time": "2022-04-09T19:29:53.193978",
     "exception": false,
     "start_time": "2022-04-09T19:29:52.296464",
     "status": "completed"
    },
    "tags": []
   },
   "outputs": [],
   "source": [
    "# 시각화\n",
    "import seaborn as sns\n",
    "import matplotlib.pyplot as plt\n",
    "\n",
    "def pie_chart(feature):\n",
    "    feature_ratio = train[feature].value_counts(sort=False)\n",
    "    feature_size = feature_ratio.size\n",
    "    feature_index = feature_ratio.index\n",
    "    survived = train[train['Survived'] == 1][feature].value_counts() # 생존자수\n",
    "    dead = train[train['Survived'] == 0][feature].value_counts() # 사망자수\n",
    "\n",
    "    plt.plot(aspect='auto')\n",
    "    plt.pie(feature_ratio, labels=feature_index, autopct='%1.1f%%')\n",
    "    plt.title(feature + '\\'s ratio in total')\n",
    "    plt.show()\n",
    "    \n",
    "    if(feature != 'Survived'):\n",
    "        for i, index in enumerate(feature_index):\n",
    "            plt.subplot(1, feature_size + 1, i + 1, aspect='equal')\n",
    "            plt.pie([survived[index], dead[index]], labels=['Survived', 'Dead'], autopct='%1.1f%%')\n",
    "            plt.title(str(index) + '\\'s ratio')\n",
    "    \n",
    "        plt.show()\n",
    "        \n",
    "def bar_chart(feature):\n",
    "    survived = train[train['Survived'] == 1][feature].value_counts()\n",
    "    dead = train[train['Survived'] == 0][feature].value_counts()\n",
    "    df = pd.DataFrame([survived, dead])\n",
    "    df.index = ['Survived', 'Dead']\n",
    "    df.plot(kind='bar', figsize=(10, 5))"
   ]
  },
  {
   "cell_type": "code",
   "execution_count": 4,
   "id": "df27bdab",
   "metadata": {
    "execution": {
     "iopub.execute_input": "2022-04-09T19:29:53.301900Z",
     "iopub.status.busy": "2022-04-09T19:29:53.301423Z",
     "iopub.status.idle": "2022-04-09T19:29:53.322579Z",
     "shell.execute_reply": "2022-04-09T19:29:53.322084Z",
     "shell.execute_reply.started": "2022-04-09T19:13:56.370722Z"
    },
    "papermill": {
     "duration": 0.072013,
     "end_time": "2022-04-09T19:29:53.322710",
     "exception": false,
     "start_time": "2022-04-09T19:29:53.250697",
     "status": "completed"
    },
    "tags": []
   },
   "outputs": [
    {
     "name": "stdout",
     "output_type": "stream",
     "text": [
      "<class 'pandas.core.frame.DataFrame'>\n",
      "RangeIndex: 891 entries, 0 to 890\n",
      "Data columns (total 12 columns):\n",
      " #   Column       Non-Null Count  Dtype  \n",
      "---  ------       --------------  -----  \n",
      " 0   PassengerId  891 non-null    int64  \n",
      " 1   Survived     891 non-null    int64  \n",
      " 2   Pclass       891 non-null    int64  \n",
      " 3   Name         891 non-null    object \n",
      " 4   Sex          891 non-null    object \n",
      " 5   Age          714 non-null    float64\n",
      " 6   SibSp        891 non-null    int64  \n",
      " 7   Parch        891 non-null    int64  \n",
      " 8   Ticket       891 non-null    object \n",
      " 9   Fare         891 non-null    float64\n",
      " 10  Cabin        204 non-null    object \n",
      " 11  Embarked     889 non-null    object \n",
      "dtypes: float64(2), int64(5), object(5)\n",
      "memory usage: 83.7+ KB\n"
     ]
    }
   ],
   "source": [
    "train.info()"
   ]
  },
  {
   "cell_type": "code",
   "execution_count": 5,
   "id": "ac99f2bd",
   "metadata": {
    "execution": {
     "iopub.execute_input": "2022-04-09T19:29:53.425163Z",
     "iopub.status.busy": "2022-04-09T19:29:53.424512Z",
     "iopub.status.idle": "2022-04-09T19:29:53.430571Z",
     "shell.execute_reply": "2022-04-09T19:29:53.430979Z",
     "shell.execute_reply.started": "2022-04-09T19:13:56.397858Z"
    },
    "papermill": {
     "duration": 0.05863,
     "end_time": "2022-04-09T19:29:53.431105",
     "exception": false,
     "start_time": "2022-04-09T19:29:53.372475",
     "status": "completed"
    },
    "tags": []
   },
   "outputs": [
    {
     "data": {
      "text/plain": [
       "PassengerId      0\n",
       "Survived         0\n",
       "Pclass           0\n",
       "Name             0\n",
       "Sex              0\n",
       "Age            177\n",
       "SibSp            0\n",
       "Parch            0\n",
       "Ticket           0\n",
       "Fare             0\n",
       "Cabin          687\n",
       "Embarked         2\n",
       "dtype: int64"
      ]
     },
     "execution_count": 5,
     "metadata": {},
     "output_type": "execute_result"
    }
   ],
   "source": [
    "train.isnull().sum()"
   ]
  },
  {
   "cell_type": "markdown",
   "id": "dc6d5534",
   "metadata": {
    "papermill": {
     "duration": 0.058278,
     "end_time": "2022-04-09T19:29:53.543011",
     "exception": false,
     "start_time": "2022-04-09T19:29:53.484733",
     "status": "completed"
    },
    "tags": []
   },
   "source": [
    "우선, `Age`, `Cabin`, `Embarked` 속성에 결측치가 있음을 확인했다. 특히, `Cabin`은 결측치의 비율이 전체의 77%이므로 일단 무시하는것으로 한다. `Age`의 경우 중간값으로 결측치를 채우는 것으로 한다.\n",
    "\n",
    "또한 `Name`과 `Ticket` 속성은 모델이 사용할 수 있는 유용한 숫자로 변환하기 어렵기 때문에 이 특성 또한 무시한다."
   ]
  },
  {
   "cell_type": "code",
   "execution_count": 6,
   "id": "fc6d1e70",
   "metadata": {
    "execution": {
     "iopub.execute_input": "2022-04-09T19:29:53.649102Z",
     "iopub.status.busy": "2022-04-09T19:29:53.645550Z",
     "iopub.status.idle": "2022-04-09T19:29:53.748070Z",
     "shell.execute_reply": "2022-04-09T19:29:53.748606Z",
     "shell.execute_reply.started": "2022-04-09T19:13:56.416296Z"
    },
    "papermill": {
     "duration": 0.155185,
     "end_time": "2022-04-09T19:29:53.748761",
     "exception": false,
     "start_time": "2022-04-09T19:29:53.593576",
     "status": "completed"
    },
    "tags": []
   },
   "outputs": [
    {
     "data": {
      "image/png": "[encoded data removed]",
      "text/plain": [
       "<Figure size 432x288 with 1 Axes>"
      ]
     },
     "metadata": {},
     "output_type": "display_data"
    }
   ],
   "source": [
    "# 생존자 비율\n",
    "pie_chart('Survived')"
   ]
  },
  {
   "cell_type": "markdown",
   "id": "b4b44f69",
   "metadata": {
    "papermill": {
     "duration": 0.05583,
     "end_time": "2022-04-09T19:29:53.868370",
     "exception": false,
     "start_time": "2022-04-09T19:29:53.812540",
     "status": "completed"
    },
    "tags": []
   },
   "source": [
    "위의 차트를 보면 전체 탑승객의 약 60% 정도가 사망했다는 것을 알 수 있다."
   ]
  },
  {
   "cell_type": "markdown",
   "id": "37d600d2",
   "metadata": {
    "papermill": {
     "duration": 0.050315,
     "end_time": "2022-04-09T19:29:53.969170",
     "exception": false,
     "start_time": "2022-04-09T19:29:53.918855",
     "status": "completed"
    },
    "tags": []
   },
   "source": [
    "### **범주형 특성**\n",
    "\n",
    "* Sex\n",
    "* Pclass\n",
    "* Embarked"
   ]
  },
  {
   "cell_type": "code",
   "execution_count": 7,
   "id": "c26eb676",
   "metadata": {
    "execution": {
     "iopub.execute_input": "2022-04-09T19:29:54.074084Z",
     "iopub.status.busy": "2022-04-09T19:29:54.073584Z",
     "iopub.status.idle": "2022-04-09T19:29:54.235732Z",
     "shell.execute_reply": "2022-04-09T19:29:54.236280Z",
     "shell.execute_reply.started": "2022-04-09T19:13:56.564579Z"
    },
    "papermill": {
     "duration": 0.217371,
     "end_time": "2022-04-09T19:29:54.236482",
     "exception": false,
     "start_time": "2022-04-09T19:29:54.019111",
     "status": "completed"
    },
    "tags": []
   },
   "outputs": [
    {
     "data": {
      "image/png": "[encoded data removed]",
      "text/plain": [
       "<Figure size 432x288 with 1 Axes>"
      ]
     },
     "metadata": {},
     "output_type": "display_data"
    },
    {
     "data": {
      "image/png": "[encoded data removed]",
      "text/plain": [
       "<Figure size 432x288 with 2 Axes>"
      ]
     },
     "metadata": {},
     "output_type": "display_data"
    }
   ],
   "source": [
    "# 성별\n",
    "pie_chart('Sex')"
   ]
  },
  {
   "cell_type": "markdown",
   "id": "21bb399e",
   "metadata": {
    "papermill": {
     "duration": 0.051929,
     "end_time": "2022-04-09T19:29:54.340140",
     "exception": false,
     "start_time": "2022-04-09T19:29:54.288211",
     "status": "completed"
    },
    "tags": []
   },
   "source": [
    "`male`이 `female`보다 타이타닉 호에 많이 탑승했으며, `male`보다 `female`의 생존 비율이 높다는 것을 알 수 있다."
   ]
  },
  {
   "cell_type": "code",
   "execution_count": 8,
   "id": "60476d17",
   "metadata": {
    "execution": {
     "iopub.execute_input": "2022-04-09T19:29:54.447894Z",
     "iopub.status.busy": "2022-04-09T19:29:54.445216Z",
     "iopub.status.idle": "2022-04-09T19:29:54.651399Z",
     "shell.execute_reply": "2022-04-09T19:29:54.650976Z",
     "shell.execute_reply.started": "2022-04-09T19:13:56.872411Z"
    },
    "papermill": {
     "duration": 0.259782,
     "end_time": "2022-04-09T19:29:54.651513",
     "exception": false,
     "start_time": "2022-04-09T19:29:54.391731",
     "status": "completed"
    },
    "tags": []
   },
   "outputs": [
    {
     "data": {
      "image/png": "[encoded data removed]",
      "text/plain": [
       "<Figure size 432x288 with 1 Axes>"
      ]
     },
     "metadata": {},
     "output_type": "display_data"
    },
    {
     "data": {
      "image/png": "[encoded data removed]",
      "text/plain": [
       "<Figure size 432x288 with 3 Axes>"
      ]
     },
     "metadata": {},
     "output_type": "display_data"
    }
   ],
   "source": [
    "# 티켓 등급\n",
    "pie_chart('Pclass')"
   ]
  },
  {
   "cell_type": "markdown",
   "id": "e5bd8151",
   "metadata": {
    "papermill": {
     "duration": 0.053134,
     "end_time": "2022-04-09T19:29:54.758665",
     "exception": false,
     "start_time": "2022-04-09T19:29:54.705531",
     "status": "completed"
    },
    "tags": []
   },
   "source": [
    "타이타닉 호에 탑승한 사람 중 `Pclass`가 3인사람, 즉 티켓 등급이 가장 낮은 사람들이이 55% 정도로 가장 많았으며, 티켓 등급이 1인 사람들이 그 다음으로 많았고 2인 사람들이 가장 적었다. 또한 티켓 등급이 높을수록(숫자가 작을수록) 생존 비율이 높다는 것을 알 수 있다."
   ]
  },
  {
   "cell_type": "code",
   "execution_count": 9,
   "id": "768a6de5",
   "metadata": {
    "execution": {
     "iopub.execute_input": "2022-04-09T19:29:54.875759Z",
     "iopub.status.busy": "2022-04-09T19:29:54.875075Z",
     "iopub.status.idle": "2022-04-09T19:29:55.084875Z",
     "shell.execute_reply": "2022-04-09T19:29:55.084455Z",
     "shell.execute_reply.started": "2022-04-09T19:13:57.260467Z"
    },
    "papermill": {
     "duration": 0.273627,
     "end_time": "2022-04-09T19:29:55.084991",
     "exception": false,
     "start_time": "2022-04-09T19:29:54.811364",
     "status": "completed"
    },
    "tags": []
   },
   "outputs": [
    {
     "data": {
      "image/png": "[encoded data removed]",
      "text/plain": [
       "<Figure size 432x288 with 1 Axes>"
      ]
     },
     "metadata": {},
     "output_type": "display_data"
    },
    {
     "data": {
      "image/png": "[encoded data removed]",
      "text/plain": [
       "<Figure size 432x288 with 3 Axes>"
      ]
     },
     "metadata": {},
     "output_type": "display_data"
    }
   ],
   "source": [
    "# 탑승 항구\n",
    "pie_chart('Embarked')"
   ]
  },
  {
   "cell_type": "markdown",
   "id": "c2a434fe",
   "metadata": {
    "papermill": {
     "duration": 0.054869,
     "end_time": "2022-04-09T19:29:55.195063",
     "exception": false,
     "start_time": "2022-04-09T19:29:55.140194",
     "status": "completed"
    },
    "tags": []
   },
   "source": [
    "Southampton, Cherbourg, Queenstown 순으로 탑승한 사람이 많았으며, Cherbourg을 제외한 다른 두 항구에서 탑승한 사람들은 사망자 비율이 생존자 비율보다 높았다."
   ]
  },
  {
   "cell_type": "markdown",
   "id": "a5789f85",
   "metadata": {
    "papermill": {
     "duration": 0.083162,
     "end_time": "2022-04-09T19:29:55.334099",
     "exception": false,
     "start_time": "2022-04-09T19:29:55.250937",
     "status": "completed"
    },
    "tags": []
   },
   "source": [
    "### **수치형 특성**\n",
    "\n",
    "* SibSp\n",
    "* Parch"
   ]
  },
  {
   "cell_type": "code",
   "execution_count": 10,
   "id": "fdcf431d",
   "metadata": {
    "execution": {
     "iopub.execute_input": "2022-04-09T19:29:55.511713Z",
     "iopub.status.busy": "2022-04-09T19:29:55.510982Z",
     "iopub.status.idle": "2022-04-09T19:29:55.699301Z",
     "shell.execute_reply": "2022-04-09T19:29:55.699842Z",
     "shell.execute_reply.started": "2022-04-09T19:13:57.629134Z"
    },
    "papermill": {
     "duration": 0.282073,
     "end_time": "2022-04-09T19:29:55.700015",
     "exception": false,
     "start_time": "2022-04-09T19:29:55.417942",
     "status": "completed"
    },
    "tags": []
   },
   "outputs": [
    {
     "data": {
      "image/png": "[encoded data removed]",
      "text/plain": [
       "<Figure size 720x360 with 1 Axes>"
      ]
     },
     "metadata": {
      "needs_background": "light"
     },
     "output_type": "display_data"
    }
   ],
   "source": [
    "# 함께 탑승한 형제자매, 배우자의 수\n",
    "bar_chart('SibSp')"
   ]
  },
  {
   "cell_type": "markdown",
   "id": "8c24138b",
   "metadata": {
    "papermill": {
     "duration": 0.086638,
     "end_time": "2022-04-09T19:29:55.871546",
     "exception": false,
     "start_time": "2022-04-09T19:29:55.784908",
     "status": "completed"
    },
    "tags": []
   },
   "source": [
    "생존자 중에서는 혼자 탑승한 사람의 수가 가장 많다. 하지만, 혼자 탑승한 사람의 사망자 대비 생존자의 비율은 매우 낮은 것을 알 수 있다."
   ]
  },
  {
   "cell_type": "code",
   "execution_count": 11,
   "id": "45eafa2d",
   "metadata": {
    "execution": {
     "iopub.execute_input": "2022-04-09T19:29:56.044778Z",
     "iopub.status.busy": "2022-04-09T19:29:56.044126Z",
     "iopub.status.idle": "2022-04-09T19:29:56.207720Z",
     "shell.execute_reply": "2022-04-09T19:29:56.207267Z",
     "shell.execute_reply.started": "2022-04-09T19:13:57.951687Z"
    },
    "papermill": {
     "duration": 0.251098,
     "end_time": "2022-04-09T19:29:56.207831",
     "exception": false,
     "start_time": "2022-04-09T19:29:55.956733",
     "status": "completed"
    },
    "tags": []
   },
   "outputs": [
    {
     "data": {
      "image/png": "[encoded data removed]",
      "text/plain": [
       "<Figure size 720x360 with 1 Axes>"
      ]
     },
     "metadata": {
      "needs_background": "light"
     },
     "output_type": "display_data"
    }
   ],
   "source": [
    "# 함께 탑승한 부모, 자식의 수\n",
    "bar_chart('Parch')"
   ]
  },
  {
   "cell_type": "markdown",
   "id": "43cdfe98",
   "metadata": {
    "papermill": {
     "duration": 0.055661,
     "end_time": "2022-04-09T19:29:56.320046",
     "exception": false,
     "start_time": "2022-04-09T19:29:56.264385",
     "status": "completed"
    },
    "tags": []
   },
   "source": [
    "`Parch` 특성은 `Sibsp`와 비슷한 비율을 보인다."
   ]
  },
  {
   "cell_type": "markdown",
   "id": "48b53fdd",
   "metadata": {
    "papermill": {
     "duration": 0.055523,
     "end_time": "2022-04-09T19:29:56.433113",
     "exception": false,
     "start_time": "2022-04-09T19:29:56.377590",
     "status": "completed"
    },
    "tags": []
   },
   "source": [
    "# **데이터 전처리**"
   ]
  },
  {
   "cell_type": "code",
   "execution_count": 12,
   "id": "9e3e2a9a",
   "metadata": {
    "execution": {
     "iopub.execute_input": "2022-04-09T19:29:56.551115Z",
     "iopub.status.busy": "2022-04-09T19:29:56.547013Z",
     "iopub.status.idle": "2022-04-09T19:29:56.925956Z",
     "shell.execute_reply": "2022-04-09T19:29:56.925501Z",
     "shell.execute_reply.started": "2022-04-09T19:13:58.216388Z"
    },
    "papermill": {
     "duration": 0.436135,
     "end_time": "2022-04-09T19:29:56.926077",
     "exception": false,
     "start_time": "2022-04-09T19:29:56.489942",
     "status": "completed"
    },
    "tags": []
   },
   "outputs": [],
   "source": [
    "from sklearn.pipeline import Pipeline\n",
    "from sklearn.impute import SimpleImputer\n",
    "from sklearn.preprocessing import StandardScaler, OrdinalEncoder, OneHotEncoder\n",
    "\n",
    "# 수치형 데이터 파이프라인\n",
    "num_pipeline = Pipeline([\n",
    "    (\"imputer\", SimpleImputer(strategy=\"median\")), # 결측치 중간값으로 채움\n",
    "    (\"scaler\", StandardScaler()) # 표준화\n",
    "])\n",
    "\n",
    "# 범주형 데이터 파이프라인\n",
    "cat_pipeline = Pipeline([\n",
    "    (\"ordinal_encoder\", OrdinalEncoder()),\n",
    "    (\"imputer\", SimpleImputer(strategy=\"most_frequent\")), # 결측치 최빈값으로 채움\n",
    "    (\"cat_encoder\", OneHotEncoder(sparse=False, handle_unknown=\"ignore\"))\n",
    "])"
   ]
  },
  {
   "cell_type": "code",
   "execution_count": 13,
   "id": "f17972da",
   "metadata": {
    "execution": {
     "iopub.execute_input": "2022-04-09T19:29:57.040556Z",
     "iopub.status.busy": "2022-04-09T19:29:57.040031Z",
     "iopub.status.idle": "2022-04-09T19:29:57.045899Z",
     "shell.execute_reply": "2022-04-09T19:29:57.046302Z",
     "shell.execute_reply.started": "2022-04-09T19:13:58.672928Z"
    },
    "papermill": {
     "duration": 0.065569,
     "end_time": "2022-04-09T19:29:57.046445",
     "exception": false,
     "start_time": "2022-04-09T19:29:56.980876",
     "status": "completed"
    },
    "tags": []
   },
   "outputs": [],
   "source": [
    "from sklearn.compose import ColumnTransformer\n",
    "\n",
    "num_attribs = [\"Age\", \"SibSp\", \"Parch\", \"Fare\"] # 수치형 특성\n",
    "cat_attribs = [\"Pclass\", \"Sex\", \"Embarked\"] # 범주형 특성\n",
    "\n",
    "# 특성별 파이프라인 지정\n",
    "preprocess_pipeline = ColumnTransformer([\n",
    "    (\"num\", num_pipeline, num_attribs),\n",
    "    (\"cat\", cat_pipeline, cat_attribs),\n",
    "])"
   ]
  },
  {
   "cell_type": "code",
   "execution_count": 14,
   "id": "bf41ae7e",
   "metadata": {
    "execution": {
     "iopub.execute_input": "2022-04-09T19:29:57.160544Z",
     "iopub.status.busy": "2022-04-09T19:29:57.160033Z",
     "iopub.status.idle": "2022-04-09T19:29:57.178907Z",
     "shell.execute_reply": "2022-04-09T19:29:57.179386Z",
     "shell.execute_reply.started": "2022-04-09T19:13:58.68495Z"
    },
    "papermill": {
     "duration": 0.076709,
     "end_time": "2022-04-09T19:29:57.179526",
     "exception": false,
     "start_time": "2022-04-09T19:29:57.102817",
     "status": "completed"
    },
    "tags": []
   },
   "outputs": [
    {
     "data": {
      "text/plain": [
       "array([[-0.56573646,  0.43279337, -0.47367361, ...,  0.        ,\n",
       "         0.        ,  1.        ],\n",
       "       [ 0.66386103,  0.43279337, -0.47367361, ...,  1.        ,\n",
       "         0.        ,  0.        ],\n",
       "       [-0.25833709, -0.4745452 , -0.47367361, ...,  0.        ,\n",
       "         0.        ,  1.        ],\n",
       "       ...,\n",
       "       [-0.1046374 ,  0.43279337,  2.00893337, ...,  0.        ,\n",
       "         0.        ,  1.        ],\n",
       "       [-0.25833709, -0.4745452 , -0.47367361, ...,  1.        ,\n",
       "         0.        ,  0.        ],\n",
       "       [ 0.20276197, -0.4745452 , -0.47367361, ...,  0.        ,\n",
       "         1.        ,  0.        ]])"
      ]
     },
     "execution_count": 14,
     "metadata": {},
     "output_type": "execute_result"
    }
   ],
   "source": [
    "X_train = preprocess_pipeline.fit_transform(train)\n",
    "X_train"
   ]
  },
  {
   "cell_type": "code",
   "execution_count": 15,
   "id": "d1aa6ae3",
   "metadata": {
    "execution": {
     "iopub.execute_input": "2022-04-09T19:29:57.295857Z",
     "iopub.status.busy": "2022-04-09T19:29:57.295326Z",
     "iopub.status.idle": "2022-04-09T19:29:57.298485Z",
     "shell.execute_reply": "2022-04-09T19:29:57.298941Z",
     "shell.execute_reply.started": "2022-04-09T19:13:58.708837Z"
    },
    "papermill": {
     "duration": 0.062669,
     "end_time": "2022-04-09T19:29:57.299060",
     "exception": false,
     "start_time": "2022-04-09T19:29:57.236391",
     "status": "completed"
    },
    "tags": []
   },
   "outputs": [],
   "source": [
    "y_train = train[\"Survived\"] # label"
   ]
  },
  {
   "cell_type": "markdown",
   "id": "fdc48e70",
   "metadata": {
    "papermill": {
     "duration": 0.055766,
     "end_time": "2022-04-09T19:29:57.410772",
     "exception": false,
     "start_time": "2022-04-09T19:29:57.355006",
     "status": "completed"
    },
    "tags": []
   },
   "source": [
    "# **모델 선택과 훈련**"
   ]
  },
  {
   "cell_type": "markdown",
   "id": "08bda590",
   "metadata": {
    "papermill": {
     "duration": 0.056693,
     "end_time": "2022-04-09T19:29:57.524429",
     "exception": false,
     "start_time": "2022-04-09T19:29:57.467736",
     "status": "completed"
    },
    "tags": []
   },
   "source": [
    "## **랜덤 포레스트 분류**"
   ]
  },
  {
   "cell_type": "code",
   "execution_count": 16,
   "id": "453199b0",
   "metadata": {
    "execution": {
     "iopub.execute_input": "2022-04-09T19:29:57.640166Z",
     "iopub.status.busy": "2022-04-09T19:29:57.639678Z",
     "iopub.status.idle": "2022-04-09T19:29:57.859543Z",
     "shell.execute_reply": "2022-04-09T19:29:57.859066Z",
     "shell.execute_reply.started": "2022-04-09T19:13:58.714131Z"
    },
    "papermill": {
     "duration": 0.278204,
     "end_time": "2022-04-09T19:29:57.859662",
     "exception": false,
     "start_time": "2022-04-09T19:29:57.581458",
     "status": "completed"
    },
    "tags": []
   },
   "outputs": [
    {
     "data": {
      "text/plain": [
       "RandomForestClassifier(random_state=42)"
      ]
     },
     "execution_count": 16,
     "metadata": {},
     "output_type": "execute_result"
    }
   ],
   "source": [
    "from sklearn.ensemble import RandomForestClassifier\n",
    "\n",
    "forest_clf = RandomForestClassifier(n_estimators=100, random_state=42)\n",
    "forest_clf.fit(X_train, y_train)"
   ]
  },
  {
   "cell_type": "code",
   "execution_count": 17,
   "id": "1c741e56",
   "metadata": {
    "execution": {
     "iopub.execute_input": "2022-04-09T19:29:57.977008Z",
     "iopub.status.busy": "2022-04-09T19:29:57.976519Z",
     "iopub.status.idle": "2022-04-09T19:29:58.003575Z",
     "shell.execute_reply": "2022-04-09T19:29:58.003989Z",
     "shell.execute_reply.started": "2022-04-09T19:13:59.025465Z"
    },
    "papermill": {
     "duration": 0.087686,
     "end_time": "2022-04-09T19:29:58.004115",
     "exception": false,
     "start_time": "2022-04-09T19:29:57.916429",
     "status": "completed"
    },
    "tags": []
   },
   "outputs": [],
   "source": [
    "# 테스트셋에 대하여 예측하기\n",
    "X_test = preprocess_pipeline.transform(test)\n",
    "y_pred = forest_clf.predict(X_test)"
   ]
  },
  {
   "cell_type": "code",
   "execution_count": 18,
   "id": "8f57249d",
   "metadata": {
    "execution": {
     "iopub.execute_input": "2022-04-09T19:29:58.120065Z",
     "iopub.status.busy": "2022-04-09T19:29:58.119599Z",
     "iopub.status.idle": "2022-04-09T19:29:59.686159Z",
     "shell.execute_reply": "2022-04-09T19:29:59.685686Z",
     "shell.execute_reply.started": "2022-04-09T19:13:59.061448Z"
    },
    "papermill": {
     "duration": 1.625843,
     "end_time": "2022-04-09T19:29:59.686263",
     "exception": false,
     "start_time": "2022-04-09T19:29:58.060420",
     "status": "completed"
    },
    "tags": []
   },
   "outputs": [
    {
     "data": {
      "text/plain": [
       "0.8092759051186016"
      ]
     },
     "execution_count": 18,
     "metadata": {},
     "output_type": "execute_result"
    }
   ],
   "source": [
    "from sklearn.model_selection import cross_val_score\n",
    "forest_scores = cross_val_score(forest_clf, X_train, y_train, cv=10)\n",
    "forest_scores.mean()"
   ]
  },
  {
   "cell_type": "markdown",
   "id": "e1e1418a",
   "metadata": {
    "papermill": {
     "duration": 0.055446,
     "end_time": "2022-04-09T19:29:59.797853",
     "exception": false,
     "start_time": "2022-04-09T19:29:59.742407",
     "status": "completed"
    },
    "tags": []
   },
   "source": [
    "## **SVC 모델**"
   ]
  },
  {
   "cell_type": "code",
   "execution_count": 19,
   "id": "9a32f538",
   "metadata": {
    "execution": {
     "iopub.execute_input": "2022-04-09T19:29:59.916128Z",
     "iopub.status.busy": "2022-04-09T19:29:59.915620Z",
     "iopub.status.idle": "2022-04-09T19:30:00.368640Z",
     "shell.execute_reply": "2022-04-09T19:30:00.369075Z",
     "shell.execute_reply.started": "2022-04-09T19:14:01.257569Z"
    },
    "papermill": {
     "duration": 0.514432,
     "end_time": "2022-04-09T19:30:00.369209",
     "exception": false,
     "start_time": "2022-04-09T19:29:59.854777",
     "status": "completed"
    },
    "tags": []
   },
   "outputs": [
    {
     "data": {
      "text/plain": [
       "0.8249313358302123"
      ]
     },
     "execution_count": 19,
     "metadata": {},
     "output_type": "execute_result"
    }
   ],
   "source": [
    "from sklearn.svm import SVC\n",
    "\n",
    "svm_clf = SVC(gamma=\"auto\")\n",
    "svm_scores = cross_val_score(svm_clf, X_train, y_train, cv=10)\n",
    "svm_scores.mean()"
   ]
  },
  {
   "cell_type": "markdown",
   "id": "3dfc7c82",
   "metadata": {
    "papermill": {
     "duration": 0.057682,
     "end_time": "2022-04-09T19:30:00.483526",
     "exception": false,
     "start_time": "2022-04-09T19:30:00.425844",
     "status": "completed"
    },
    "tags": []
   },
   "source": [
    "SVC 모델이 랜덤포레스트로 예측하는 것보다 더 성능이 좋다."
   ]
  },
  {
   "cell_type": "markdown",
   "id": "61dc8199",
   "metadata": {
    "papermill": {
     "duration": 0.055851,
     "end_time": "2022-04-09T19:30:00.595871",
     "exception": false,
     "start_time": "2022-04-09T19:30:00.540020",
     "status": "completed"
    },
    "tags": []
   },
   "source": [
    "그러나 10겹 교차 검증의 평균 정확도만 보는 것이 아니라, 각 모델에 대한 10개의 점수를 모두 표시하고, 하위 사분위와 상위 사분위를 강조하는 상자 그림과 점수의 범위를 보여주는 \"수염\"을 표시해보자. `boxplot()` 함수는 이상치(fliers)를 탐지하고 수염에 포함하지 않는다. 특히, 하위 사분위가 $Q_1$이고 상위 사분위가 $Q_3$이면 사분위간 범위(상자높이) $IQR=Q_3-Q_1$ 이고 $Q_1-1.5*IQR$보다 낮은 점수는 이상치이며 $Q_3+1.5*IQR$보다 큰 점수도 이상치이다."
   ]
  },
  {
   "cell_type": "code",
   "execution_count": 20,
   "id": "c01141c3",
   "metadata": {
    "execution": {
     "iopub.execute_input": "2022-04-09T19:30:00.710377Z",
     "iopub.status.busy": "2022-04-09T19:30:00.709864Z",
     "iopub.status.idle": "2022-04-09T19:30:00.818359Z",
     "shell.execute_reply": "2022-04-09T19:30:00.818858Z",
     "shell.execute_reply.started": "2022-04-09T19:14:01.521063Z"
    },
    "papermill": {
     "duration": 0.167779,
     "end_time": "2022-04-09T19:30:00.818994",
     "exception": false,
     "start_time": "2022-04-09T19:30:00.651215",
     "status": "completed"
    },
    "tags": []
   },
   "outputs": [
    {
     "data": {
      "image/png": "[encoded data removed]",
      "text/plain": [
       "<Figure size 576x288 with 1 Axes>"
      ]
     },
     "metadata": {
      "needs_background": "light"
     },
     "output_type": "display_data"
    }
   ],
   "source": [
    "plt.figure(figsize=(8, 4))\n",
    "plt.plot([1]*10, svm_scores, \".\")\n",
    "plt.plot([2]*10, forest_scores, \".\")\n",
    "plt.boxplot([svm_scores, forest_scores], labels=(\"SVM\", \"Random Forest\"))\n",
    "plt.ylabel(\"Accuracy\")\n",
    "plt.show()"
   ]
  },
  {
   "cell_type": "markdown",
   "id": "58aeaa3b",
   "metadata": {
    "papermill": {
     "duration": 0.057491,
     "end_time": "2022-04-09T19:30:00.934016",
     "exception": false,
     "start_time": "2022-04-09T19:30:00.876525",
     "status": "completed"
    },
    "tags": []
   },
   "source": [
    "랜덤 포레스트 분류기는 10겹중 하나에서 매우 높은 점수를 받았지만, 전반적으로 평균 점수가 낮을 뿐 아니라 격차도 커 SVM 분류기가 일반화될 가능성이 더 높아보인다."
   ]
  },
  {
   "cell_type": "markdown",
   "id": "6d9f6cdc",
   "metadata": {
    "papermill": {
     "duration": 0.057463,
     "end_time": "2022-04-09T19:30:01.049452",
     "exception": false,
     "start_time": "2022-04-09T19:30:00.991989",
     "status": "completed"
    },
    "tags": []
   },
   "source": [
    "# **성능 향상**"
   ]
  },
  {
   "cell_type": "markdown",
   "id": "1e695a89",
   "metadata": {
    "papermill": {
     "duration": 0.055629,
     "end_time": "2022-04-09T19:30:01.162716",
     "exception": false,
     "start_time": "2022-04-09T19:30:01.107087",
     "status": "completed"
    },
    "tags": []
   },
   "source": [
    "이 결과를 개선하기 위해서 다음과 같이 할 수 있다.\n",
    "\n",
    "* 교차 검증 및 그리드 탐색을 사용하여 더 많은 모델을 비교하고 하이퍼 파라미터 조정\n",
    "* 다음과 같이 특성 엔지니어링을 추가로 실행\n",
    "    * 수치 속성을 범주형 속성으로 변환\n",
    "        * ex) 연령 그룹마다 생존율이 매우 다르므로 연령 버킷 범주를 만들고 나이 대신 사용\n",
    "    * `SibSp`와 `Parch`를 그들의 합으로 대체\n",
    "    * `Survived` 속성과 잘 상관되는 이름 부분 식별\n",
    "    * `Cabin`열 사용\n",
    "        * ex) 첫 번째 문자를 이용하여 범주형 속성으로 처리"
   ]
  },
  {
   "cell_type": "code",
   "execution_count": 21,
   "id": "6b2e907d",
   "metadata": {
    "execution": {
     "iopub.execute_input": "2022-04-09T19:30:01.280784Z",
     "iopub.status.busy": "2022-04-09T19:30:01.280086Z",
     "iopub.status.idle": "2022-04-09T19:30:01.292630Z",
     "shell.execute_reply": "2022-04-09T19:30:01.293053Z",
     "shell.execute_reply.started": "2022-04-09T19:14:01.712718Z"
    },
    "papermill": {
     "duration": 0.073109,
     "end_time": "2022-04-09T19:30:01.293177",
     "exception": false,
     "start_time": "2022-04-09T19:30:01.220068",
     "status": "completed"
    },
    "tags": []
   },
   "outputs": [],
   "source": [
    "train2 = pd.read_csv('/kaggle/input/titanic/train.csv') # 훈련셋\n",
    "test2 = pd.read_csv('/kaggle/input/titanic/test.csv') # 테스트셋"
   ]
  },
  {
   "cell_type": "markdown",
   "id": "0af9ec55",
   "metadata": {
    "papermill": {
     "duration": 0.056167,
     "end_time": "2022-04-09T19:30:01.405933",
     "exception": false,
     "start_time": "2022-04-09T19:30:01.349766",
     "status": "completed"
    },
    "tags": []
   },
   "source": [
    "**수치 속성을 범주형 속성으로 변환**"
   ]
  },
  {
   "cell_type": "code",
   "execution_count": 22,
   "id": "eba4fa5a",
   "metadata": {
    "execution": {
     "iopub.execute_input": "2022-04-09T19:30:01.523247Z",
     "iopub.status.busy": "2022-04-09T19:30:01.522591Z",
     "iopub.status.idle": "2022-04-09T19:30:01.536512Z",
     "shell.execute_reply": "2022-04-09T19:30:01.536985Z",
     "shell.execute_reply.started": "2022-04-09T19:14:01.730703Z"
    },
    "papermill": {
     "duration": 0.074004,
     "end_time": "2022-04-09T19:30:01.537114",
     "exception": false,
     "start_time": "2022-04-09T19:30:01.463110",
     "status": "completed"
    },
    "tags": []
   },
   "outputs": [
    {
     "data": {
      "text/html": [
       "<div>\n",
       "<style scoped>\n",
       "    .dataframe tbody tr th:only-of-type {\n",
       "        vertical-align: middle;\n",
       "    }\n",
       "\n",
       "    .dataframe tbody tr th {\n",
       "        vertical-align: top;\n",
       "    }\n",
       "\n",
       "    .dataframe thead th {\n",
       "        text-align: right;\n",
       "    }\n",
       "</style>\n",
       "<table border=\"1\" class=\"dataframe\">\n",
       "  <thead>\n",
       "    <tr style=\"text-align: right;\">\n",
       "      <th></th>\n",
       "      <th>Survived</th>\n",
       "    </tr>\n",
       "    <tr>\n",
       "      <th>AgeBucket</th>\n",
       "      <th></th>\n",
       "    </tr>\n",
       "  </thead>\n",
       "  <tbody>\n",
       "    <tr>\n",
       "      <th>0.0</th>\n",
       "      <td>0.576923</td>\n",
       "    </tr>\n",
       "    <tr>\n",
       "      <th>15.0</th>\n",
       "      <td>0.362745</td>\n",
       "    </tr>\n",
       "    <tr>\n",
       "      <th>30.0</th>\n",
       "      <td>0.423256</td>\n",
       "    </tr>\n",
       "    <tr>\n",
       "      <th>45.0</th>\n",
       "      <td>0.404494</td>\n",
       "    </tr>\n",
       "    <tr>\n",
       "      <th>60.0</th>\n",
       "      <td>0.240000</td>\n",
       "    </tr>\n",
       "    <tr>\n",
       "      <th>75.0</th>\n",
       "      <td>1.000000</td>\n",
       "    </tr>\n",
       "  </tbody>\n",
       "</table>\n",
       "</div>"
      ],
      "text/plain": [
       "           Survived\n",
       "AgeBucket          \n",
       "0.0        0.576923\n",
       "15.0       0.362745\n",
       "30.0       0.423256\n",
       "45.0       0.404494\n",
       "60.0       0.240000\n",
       "75.0       1.000000"
      ]
     },
     "execution_count": 22,
     "metadata": {},
     "output_type": "execute_result"
    }
   ],
   "source": [
    "train2[\"AgeBucket\"] = train2[\"Age\"] // 15 * 15    # 15 단위로 연령 그룹 생성\n",
    "train2[[\"AgeBucket\", \"Survived\"]].groupby(['AgeBucket']).mean()    # 그룸별 데이터 집계"
   ]
  },
  {
   "cell_type": "code",
   "execution_count": 23,
   "id": "c3d2e2c8",
   "metadata": {
    "execution": {
     "iopub.execute_input": "2022-04-09T19:30:01.655843Z",
     "iopub.status.busy": "2022-04-09T19:30:01.655153Z",
     "iopub.status.idle": "2022-04-09T19:30:01.660942Z",
     "shell.execute_reply": "2022-04-09T19:30:01.660348Z",
     "shell.execute_reply.started": "2022-04-09T19:14:01.753745Z"
    },
    "papermill": {
     "duration": 0.066181,
     "end_time": "2022-04-09T19:30:01.661105",
     "exception": false,
     "start_time": "2022-04-09T19:30:01.594924",
     "status": "completed"
    },
    "tags": []
   },
   "outputs": [],
   "source": [
    "test2[\"AgeBucket\"] = test2[\"Age\"] // 15 * 15    # 15 단위로 연령 그룹 생성"
   ]
  },
  {
   "cell_type": "markdown",
   "id": "e7fb861e",
   "metadata": {
    "papermill": {
     "duration": 0.089024,
     "end_time": "2022-04-09T19:30:01.840131",
     "exception": false,
     "start_time": "2022-04-09T19:30:01.751107",
     "status": "completed"
    },
    "tags": []
   },
   "source": [
    "---"
   ]
  },
  {
   "cell_type": "markdown",
   "id": "837c6d1c",
   "metadata": {
    "papermill": {
     "duration": 0.089772,
     "end_time": "2022-04-09T19:30:02.019406",
     "exception": false,
     "start_time": "2022-04-09T19:30:01.929634",
     "status": "completed"
    },
    "tags": []
   },
   "source": [
    "**`SibSp`와 `Parch`를 그들의 합으로 대체**"
   ]
  },
  {
   "cell_type": "code",
   "execution_count": 24,
   "id": "15bd7fa0",
   "metadata": {
    "execution": {
     "iopub.execute_input": "2022-04-09T19:30:02.200771Z",
     "iopub.status.busy": "2022-04-09T19:30:02.200070Z",
     "iopub.status.idle": "2022-04-09T19:30:02.209108Z",
     "shell.execute_reply": "2022-04-09T19:30:02.209683Z",
     "shell.execute_reply.started": "2022-04-09T19:14:01.76278Z"
    },
    "papermill": {
     "duration": 0.101072,
     "end_time": "2022-04-09T19:30:02.209837",
     "exception": false,
     "start_time": "2022-04-09T19:30:02.108765",
     "status": "completed"
    },
    "tags": []
   },
   "outputs": [
    {
     "data": {
      "text/html": [
       "<div>\n",
       "<style scoped>\n",
       "    .dataframe tbody tr th:only-of-type {\n",
       "        vertical-align: middle;\n",
       "    }\n",
       "\n",
       "    .dataframe tbody tr th {\n",
       "        vertical-align: top;\n",
       "    }\n",
       "\n",
       "    .dataframe thead th {\n",
       "        text-align: right;\n",
       "    }\n",
       "</style>\n",
       "<table border=\"1\" class=\"dataframe\">\n",
       "  <thead>\n",
       "    <tr style=\"text-align: right;\">\n",
       "      <th></th>\n",
       "      <th>Survived</th>\n",
       "    </tr>\n",
       "    <tr>\n",
       "      <th>Family</th>\n",
       "      <th></th>\n",
       "    </tr>\n",
       "  </thead>\n",
       "  <tbody>\n",
       "    <tr>\n",
       "      <th>0</th>\n",
       "      <td>0.303538</td>\n",
       "    </tr>\n",
       "    <tr>\n",
       "      <th>1</th>\n",
       "      <td>0.552795</td>\n",
       "    </tr>\n",
       "    <tr>\n",
       "      <th>2</th>\n",
       "      <td>0.578431</td>\n",
       "    </tr>\n",
       "    <tr>\n",
       "      <th>3</th>\n",
       "      <td>0.724138</td>\n",
       "    </tr>\n",
       "    <tr>\n",
       "      <th>4</th>\n",
       "      <td>0.200000</td>\n",
       "    </tr>\n",
       "    <tr>\n",
       "      <th>5</th>\n",
       "      <td>0.136364</td>\n",
       "    </tr>\n",
       "    <tr>\n",
       "      <th>6</th>\n",
       "      <td>0.333333</td>\n",
       "    </tr>\n",
       "    <tr>\n",
       "      <th>7</th>\n",
       "      <td>0.000000</td>\n",
       "    </tr>\n",
       "    <tr>\n",
       "      <th>10</th>\n",
       "      <td>0.000000</td>\n",
       "    </tr>\n",
       "  </tbody>\n",
       "</table>\n",
       "</div>"
      ],
      "text/plain": [
       "        Survived\n",
       "Family          \n",
       "0       0.303538\n",
       "1       0.552795\n",
       "2       0.578431\n",
       "3       0.724138\n",
       "4       0.200000\n",
       "5       0.136364\n",
       "6       0.333333\n",
       "7       0.000000\n",
       "10      0.000000"
      ]
     },
     "execution_count": 24,
     "metadata": {},
     "output_type": "execute_result"
    }
   ],
   "source": [
    "train2[\"Family\"] = train2[\"SibSp\"] + train2[\"Parch\"]\n",
    "train2[[\"Family\", \"Survived\"]].groupby(['Family']).mean()"
   ]
  },
  {
   "cell_type": "code",
   "execution_count": 25,
   "id": "a0c43c14",
   "metadata": {
    "execution": {
     "iopub.execute_input": "2022-04-09T19:30:02.393498Z",
     "iopub.status.busy": "2022-04-09T19:30:02.392829Z",
     "iopub.status.idle": "2022-04-09T19:30:02.397206Z",
     "shell.execute_reply": "2022-04-09T19:30:02.396810Z",
     "shell.execute_reply.started": "2022-04-09T19:14:01.785897Z"
    },
    "papermill": {
     "duration": 0.097168,
     "end_time": "2022-04-09T19:30:02.397311",
     "exception": false,
     "start_time": "2022-04-09T19:30:02.300143",
     "status": "completed"
    },
    "tags": []
   },
   "outputs": [],
   "source": [
    "test2[\"Family\"] = test2[\"SibSp\"] + test2[\"Parch\"]"
   ]
  },
  {
   "cell_type": "markdown",
   "id": "38460c98",
   "metadata": {
    "papermill": {
     "duration": 0.057712,
     "end_time": "2022-04-09T19:30:02.514772",
     "exception": false,
     "start_time": "2022-04-09T19:30:02.457060",
     "status": "completed"
    },
    "tags": []
   },
   "source": [
    "---"
   ]
  },
  {
   "cell_type": "markdown",
   "id": "fee9d33b",
   "metadata": {
    "papermill": {
     "duration": 0.056836,
     "end_time": "2022-04-09T19:30:02.628625",
     "exception": false,
     "start_time": "2022-04-09T19:30:02.571789",
     "status": "completed"
    },
    "tags": []
   },
   "source": [
    "**Survived 속성과 잘 상관되는 이름 부분 식별**"
   ]
  },
  {
   "cell_type": "code",
   "execution_count": 26,
   "id": "b167c0e9",
   "metadata": {
    "execution": {
     "iopub.execute_input": "2022-04-09T19:30:02.747663Z",
     "iopub.status.busy": "2022-04-09T19:30:02.747142Z",
     "iopub.status.idle": "2022-04-09T19:30:02.767809Z",
     "shell.execute_reply": "2022-04-09T19:30:02.768260Z",
     "shell.execute_reply.started": "2022-04-09T19:14:01.793222Z"
    },
    "papermill": {
     "duration": 0.081607,
     "end_time": "2022-04-09T19:30:02.768420",
     "exception": false,
     "start_time": "2022-04-09T19:30:02.686813",
     "status": "completed"
    },
    "tags": []
   },
   "outputs": [
    {
     "data": {
      "text/html": [
       "<div>\n",
       "<style scoped>\n",
       "    .dataframe tbody tr th:only-of-type {\n",
       "        vertical-align: middle;\n",
       "    }\n",
       "\n",
       "    .dataframe tbody tr th {\n",
       "        vertical-align: top;\n",
       "    }\n",
       "\n",
       "    .dataframe thead th {\n",
       "        text-align: right;\n",
       "    }\n",
       "</style>\n",
       "<table border=\"1\" class=\"dataframe\">\n",
       "  <thead>\n",
       "    <tr style=\"text-align: right;\">\n",
       "      <th>Sex</th>\n",
       "      <th>female</th>\n",
       "      <th>male</th>\n",
       "    </tr>\n",
       "    <tr>\n",
       "      <th>Title</th>\n",
       "      <th></th>\n",
       "      <th></th>\n",
       "    </tr>\n",
       "  </thead>\n",
       "  <tbody>\n",
       "    <tr>\n",
       "      <th>Capt</th>\n",
       "      <td>0</td>\n",
       "      <td>1</td>\n",
       "    </tr>\n",
       "    <tr>\n",
       "      <th>Col</th>\n",
       "      <td>0</td>\n",
       "      <td>2</td>\n",
       "    </tr>\n",
       "    <tr>\n",
       "      <th>Countess</th>\n",
       "      <td>1</td>\n",
       "      <td>0</td>\n",
       "    </tr>\n",
       "    <tr>\n",
       "      <th>Don</th>\n",
       "      <td>0</td>\n",
       "      <td>1</td>\n",
       "    </tr>\n",
       "    <tr>\n",
       "      <th>Dr</th>\n",
       "      <td>1</td>\n",
       "      <td>6</td>\n",
       "    </tr>\n",
       "    <tr>\n",
       "      <th>Jonkheer</th>\n",
       "      <td>0</td>\n",
       "      <td>1</td>\n",
       "    </tr>\n",
       "    <tr>\n",
       "      <th>Lady</th>\n",
       "      <td>1</td>\n",
       "      <td>0</td>\n",
       "    </tr>\n",
       "    <tr>\n",
       "      <th>Major</th>\n",
       "      <td>0</td>\n",
       "      <td>2</td>\n",
       "    </tr>\n",
       "    <tr>\n",
       "      <th>Master</th>\n",
       "      <td>0</td>\n",
       "      <td>40</td>\n",
       "    </tr>\n",
       "    <tr>\n",
       "      <th>Miss</th>\n",
       "      <td>182</td>\n",
       "      <td>0</td>\n",
       "    </tr>\n",
       "    <tr>\n",
       "      <th>Mlle</th>\n",
       "      <td>2</td>\n",
       "      <td>0</td>\n",
       "    </tr>\n",
       "    <tr>\n",
       "      <th>Mme</th>\n",
       "      <td>1</td>\n",
       "      <td>0</td>\n",
       "    </tr>\n",
       "    <tr>\n",
       "      <th>Mr</th>\n",
       "      <td>0</td>\n",
       "      <td>517</td>\n",
       "    </tr>\n",
       "    <tr>\n",
       "      <th>Mrs</th>\n",
       "      <td>125</td>\n",
       "      <td>0</td>\n",
       "    </tr>\n",
       "    <tr>\n",
       "      <th>Ms</th>\n",
       "      <td>1</td>\n",
       "      <td>0</td>\n",
       "    </tr>\n",
       "    <tr>\n",
       "      <th>Rev</th>\n",
       "      <td>0</td>\n",
       "      <td>6</td>\n",
       "    </tr>\n",
       "    <tr>\n",
       "      <th>Sir</th>\n",
       "      <td>0</td>\n",
       "      <td>1</td>\n",
       "    </tr>\n",
       "  </tbody>\n",
       "</table>\n",
       "</div>"
      ],
      "text/plain": [
       "Sex       female  male\n",
       "Title                 \n",
       "Capt           0     1\n",
       "Col            0     2\n",
       "Countess       1     0\n",
       "Don            0     1\n",
       "Dr             1     6\n",
       "Jonkheer       0     1\n",
       "Lady           1     0\n",
       "Major          0     2\n",
       "Master         0    40\n",
       "Miss         182     0\n",
       "Mlle           2     0\n",
       "Mme            1     0\n",
       "Mr             0   517\n",
       "Mrs          125     0\n",
       "Ms             1     0\n",
       "Rev            0     6\n",
       "Sir            0     1"
      ]
     },
     "execution_count": 26,
     "metadata": {},
     "output_type": "execute_result"
    }
   ],
   "source": [
    "train2['Title'] = train2.Name.str.extract(' ([A-Za-z]+)\\.')    # 공백으로 시작하고 . 으로 끝나느 문자열 추출\n",
    "    \n",
    "pd.crosstab(train2['Title'], train2['Sex'])"
   ]
  },
  {
   "cell_type": "markdown",
   "id": "05d1db6f",
   "metadata": {
    "papermill": {
     "duration": 0.059243,
     "end_time": "2022-04-09T19:30:02.888000",
     "exception": false,
     "start_time": "2022-04-09T19:30:02.828757",
     "status": "completed"
    },
    "tags": []
   },
   "source": [
    "여기서 흔하지 않은 Title은 Other로 대체하고 중복되는 표현을 통일하자."
   ]
  },
  {
   "cell_type": "code",
   "execution_count": 27,
   "id": "8e568645",
   "metadata": {
    "execution": {
     "iopub.execute_input": "2022-04-09T19:30:03.008214Z",
     "iopub.status.busy": "2022-04-09T19:30:03.007728Z",
     "iopub.status.idle": "2022-04-09T19:30:03.021307Z",
     "shell.execute_reply": "2022-04-09T19:30:03.021785Z",
     "shell.execute_reply.started": "2022-04-09T19:14:01.830332Z"
    },
    "papermill": {
     "duration": 0.074155,
     "end_time": "2022-04-09T19:30:03.021906",
     "exception": false,
     "start_time": "2022-04-09T19:30:02.947751",
     "status": "completed"
    },
    "tags": []
   },
   "outputs": [
    {
     "data": {
      "text/html": [
       "<div>\n",
       "<style scoped>\n",
       "    .dataframe tbody tr th:only-of-type {\n",
       "        vertical-align: middle;\n",
       "    }\n",
       "\n",
       "    .dataframe tbody tr th {\n",
       "        vertical-align: top;\n",
       "    }\n",
       "\n",
       "    .dataframe thead th {\n",
       "        text-align: right;\n",
       "    }\n",
       "</style>\n",
       "<table border=\"1\" class=\"dataframe\">\n",
       "  <thead>\n",
       "    <tr style=\"text-align: right;\">\n",
       "      <th></th>\n",
       "      <th>Title</th>\n",
       "      <th>Survived</th>\n",
       "    </tr>\n",
       "  </thead>\n",
       "  <tbody>\n",
       "    <tr>\n",
       "      <th>0</th>\n",
       "      <td>Master</td>\n",
       "      <td>0.575000</td>\n",
       "    </tr>\n",
       "    <tr>\n",
       "      <th>1</th>\n",
       "      <td>Miss</td>\n",
       "      <td>0.702703</td>\n",
       "    </tr>\n",
       "    <tr>\n",
       "      <th>2</th>\n",
       "      <td>Mr</td>\n",
       "      <td>0.156673</td>\n",
       "    </tr>\n",
       "    <tr>\n",
       "      <th>3</th>\n",
       "      <td>Mrs</td>\n",
       "      <td>0.793651</td>\n",
       "    </tr>\n",
       "    <tr>\n",
       "      <th>4</th>\n",
       "      <td>Other</td>\n",
       "      <td>0.347826</td>\n",
       "    </tr>\n",
       "  </tbody>\n",
       "</table>\n",
       "</div>"
      ],
      "text/plain": [
       "    Title  Survived\n",
       "0  Master  0.575000\n",
       "1    Miss  0.702703\n",
       "2      Mr  0.156673\n",
       "3     Mrs  0.793651\n",
       "4   Other  0.347826"
      ]
     },
     "execution_count": 27,
     "metadata": {},
     "output_type": "execute_result"
    }
   ],
   "source": [
    "train2['Title'] = train2['Title'].replace(['Capt', 'Col', 'Countess', 'Don',\n",
    "                                           'Dona', 'Dr', 'Jonkheer','Lady',\n",
    "                                           'Major', 'Rev', 'Sir'], 'Other')\n",
    "train2['Title'] = train2['Title'].replace('Mlle', 'Miss')\n",
    "train2['Title'] = train2['Title'].replace('Mme', 'Mrs')\n",
    "train2['Title'] = train2['Title'].replace('Ms', 'Miss')\n",
    "\n",
    "train2[['Title', 'Survived']].groupby(['Title'], as_index=False).mean()"
   ]
  },
  {
   "cell_type": "code",
   "execution_count": 28,
   "id": "0ddabfa8",
   "metadata": {
    "execution": {
     "iopub.execute_input": "2022-04-09T19:30:03.141128Z",
     "iopub.status.busy": "2022-04-09T19:30:03.140645Z",
     "iopub.status.idle": "2022-04-09T19:30:03.143877Z",
     "shell.execute_reply": "2022-04-09T19:30:03.144297Z",
     "shell.execute_reply.started": "2022-04-09T19:14:01.856019Z"
    },
    "papermill": {
     "duration": 0.063758,
     "end_time": "2022-04-09T19:30:03.144456",
     "exception": false,
     "start_time": "2022-04-09T19:30:03.080698",
     "status": "completed"
    },
    "tags": []
   },
   "outputs": [],
   "source": [
    "# 추출한 Title 데이터를 학습하기 알맞게 String으로 변형\n",
    "train2['Title'] = train2['Title'].astype(str)"
   ]
  },
  {
   "cell_type": "code",
   "execution_count": 29,
   "id": "72a40050",
   "metadata": {
    "execution": {
     "iopub.execute_input": "2022-04-09T19:30:03.267180Z",
     "iopub.status.busy": "2022-04-09T19:30:03.266651Z",
     "iopub.status.idle": "2022-04-09T19:30:03.275685Z",
     "shell.execute_reply": "2022-04-09T19:30:03.276125Z",
     "shell.execute_reply.started": "2022-04-09T19:14:01.86346Z"
    },
    "papermill": {
     "duration": 0.072268,
     "end_time": "2022-04-09T19:30:03.276260",
     "exception": false,
     "start_time": "2022-04-09T19:30:03.203992",
     "status": "completed"
    },
    "tags": []
   },
   "outputs": [],
   "source": [
    "test2['Title'] = test2.Name.str.extract(' ([A-Za-z]+)\\.') \n",
    "\n",
    "test2['Title'] = test2['Title'].replace(['Capt', 'Col', 'Countess', 'Don',\n",
    "                                           'Dona', 'Dr', 'Jonkheer','Lady',\n",
    "                                           'Major', 'Rev', 'Sir'], 'Other')\n",
    "test2['Title'] = test2['Title'].replace('Mlle', 'Miss')\n",
    "test2['Title'] = test2['Title'].replace('Mme', 'Mrs')\n",
    "test2['Title'] = test2['Title'].replace('Ms', 'Miss')\n",
    "\n",
    "test2['Title'] = test2['Title'].astype(str)"
   ]
  },
  {
   "cell_type": "markdown",
   "id": "31981848",
   "metadata": {
    "papermill": {
     "duration": 0.058635,
     "end_time": "2022-04-09T19:30:03.394326",
     "exception": false,
     "start_time": "2022-04-09T19:30:03.335691",
     "status": "completed"
    },
    "tags": []
   },
   "source": [
    "---"
   ]
  },
  {
   "cell_type": "markdown",
   "id": "69184233",
   "metadata": {
    "papermill": {
     "duration": 0.058826,
     "end_time": "2022-04-09T19:30:03.513111",
     "exception": false,
     "start_time": "2022-04-09T19:30:03.454285",
     "status": "completed"
    },
    "tags": []
   },
   "source": [
    "**전처리**"
   ]
  },
  {
   "cell_type": "code",
   "execution_count": 30,
   "id": "ec5faaa1",
   "metadata": {
    "execution": {
     "iopub.execute_input": "2022-04-09T19:30:03.632899Z",
     "iopub.status.busy": "2022-04-09T19:30:03.632387Z",
     "iopub.status.idle": "2022-04-09T19:30:03.635671Z",
     "shell.execute_reply": "2022-04-09T19:30:03.636135Z",
     "shell.execute_reply.started": "2022-04-09T19:14:01.887571Z"
    },
    "papermill": {
     "duration": 0.064262,
     "end_time": "2022-04-09T19:30:03.636255",
     "exception": false,
     "start_time": "2022-04-09T19:30:03.571993",
     "status": "completed"
    },
    "tags": []
   },
   "outputs": [],
   "source": [
    "num_attribs2 = [\"Family\", \"Fare\"] # 수치형 특성\n",
    "cat_attribs2 = [\"AgeBucket\", \"Pclass\", \"Sex\", \"Embarked\", \"Title\"] # 범주형 특성\n",
    "\n",
    "# 특성별 파이프라인 지정\n",
    "preprocess_pipeline2 = ColumnTransformer([\n",
    "    (\"num\", num_pipeline, num_attribs2),\n",
    "    (\"cat\", cat_pipeline, cat_attribs2),\n",
    "])"
   ]
  },
  {
   "cell_type": "code",
   "execution_count": 31,
   "id": "c0c23f6d",
   "metadata": {
    "execution": {
     "iopub.execute_input": "2022-04-09T19:30:03.757554Z",
     "iopub.status.busy": "2022-04-09T19:30:03.757056Z",
     "iopub.status.idle": "2022-04-09T19:30:03.772704Z",
     "shell.execute_reply": "2022-04-09T19:30:03.773170Z",
     "shell.execute_reply.started": "2022-04-09T19:14:01.894658Z"
    },
    "papermill": {
     "duration": 0.076698,
     "end_time": "2022-04-09T19:30:03.773295",
     "exception": false,
     "start_time": "2022-04-09T19:30:03.696597",
     "status": "completed"
    },
    "tags": []
   },
   "outputs": [
    {
     "data": {
      "text/plain": [
       "array([[ 0.05915988, -0.50244517,  0.        , ...,  1.        ,\n",
       "         0.        ,  0.        ],\n",
       "       [ 0.05915988,  0.78684529,  0.        , ...,  0.        ,\n",
       "         1.        ,  0.        ],\n",
       "       [-0.56097483, -0.48885426,  0.        , ...,  0.        ,\n",
       "         0.        ,  0.        ],\n",
       "       ...,\n",
       "       [ 1.29942929, -0.17626324,  0.        , ...,  0.        ,\n",
       "         0.        ,  0.        ],\n",
       "       [-0.56097483, -0.04438104,  0.        , ...,  1.        ,\n",
       "         0.        ,  0.        ],\n",
       "       [-0.56097483, -0.49237783,  0.        , ...,  1.        ,\n",
       "         0.        ,  0.        ]])"
      ]
     },
     "execution_count": 31,
     "metadata": {},
     "output_type": "execute_result"
    }
   ],
   "source": [
    "X_train2 = preprocess_pipeline2.fit_transform(train2)\n",
    "X_train2"
   ]
  },
  {
   "cell_type": "code",
   "execution_count": 32,
   "id": "3b603a09",
   "metadata": {
    "execution": {
     "iopub.execute_input": "2022-04-09T19:30:03.896920Z",
     "iopub.status.busy": "2022-04-09T19:30:03.896254Z",
     "iopub.status.idle": "2022-04-09T19:30:03.899728Z",
     "shell.execute_reply": "2022-04-09T19:30:03.900203Z",
     "shell.execute_reply.started": "2022-04-09T19:14:01.926385Z"
    },
    "papermill": {
     "duration": 0.066796,
     "end_time": "2022-04-09T19:30:03.900330",
     "exception": false,
     "start_time": "2022-04-09T19:30:03.833534",
     "status": "completed"
    },
    "tags": []
   },
   "outputs": [],
   "source": [
    "y_train2 = train2[\"Survived\"] # label"
   ]
  },
  {
   "cell_type": "markdown",
   "id": "12493bf6",
   "metadata": {
    "papermill": {
     "duration": 0.060447,
     "end_time": "2022-04-09T19:30:04.020651",
     "exception": false,
     "start_time": "2022-04-09T19:30:03.960204",
     "status": "completed"
    },
    "tags": []
   },
   "source": [
    "---"
   ]
  },
  {
   "cell_type": "markdown",
   "id": "ca281363",
   "metadata": {
    "papermill": {
     "duration": 0.058907,
     "end_time": "2022-04-09T19:30:04.139399",
     "exception": false,
     "start_time": "2022-04-09T19:30:04.080492",
     "status": "completed"
    },
    "tags": []
   },
   "source": [
    "**모델 훈련**"
   ]
  },
  {
   "cell_type": "markdown",
   "id": "f98f7574",
   "metadata": {
    "papermill": {
     "duration": 0.059763,
     "end_time": "2022-04-09T19:30:04.259095",
     "exception": false,
     "start_time": "2022-04-09T19:30:04.199332",
     "status": "completed"
    },
    "tags": []
   },
   "source": [
    "* 랜덤 포레스트"
   ]
  },
  {
   "cell_type": "code",
   "execution_count": 33,
   "id": "985805a2",
   "metadata": {
    "execution": {
     "iopub.execute_input": "2022-04-09T19:30:04.381267Z",
     "iopub.status.busy": "2022-04-09T19:30:04.380632Z",
     "iopub.status.idle": "2022-04-09T19:30:04.391644Z",
     "shell.execute_reply": "2022-04-09T19:30:04.392113Z",
     "shell.execute_reply.started": "2022-04-09T19:14:50.848558Z"
    },
    "papermill": {
     "duration": 0.07258,
     "end_time": "2022-04-09T19:30:04.392239",
     "exception": false,
     "start_time": "2022-04-09T19:30:04.319659",
     "status": "completed"
    },
    "tags": []
   },
   "outputs": [],
   "source": [
    "X_test2 = preprocess_pipeline2.transform(test2)"
   ]
  },
  {
   "cell_type": "code",
   "execution_count": 34,
   "id": "06159b36",
   "metadata": {
    "execution": {
     "iopub.execute_input": "2022-04-09T19:30:04.518022Z",
     "iopub.status.busy": "2022-04-09T19:30:04.517398Z",
     "iopub.status.idle": "2022-04-09T19:30:06.514418Z",
     "shell.execute_reply": "2022-04-09T19:30:06.513753Z",
     "shell.execute_reply.started": "2022-04-09T19:14:55.593064Z"
    },
    "papermill": {
     "duration": 2.062043,
     "end_time": "2022-04-09T19:30:06.514558",
     "exception": false,
     "start_time": "2022-04-09T19:30:04.452515",
     "status": "completed"
    },
    "tags": []
   },
   "outputs": [
    {
     "data": {
      "text/plain": [
       "0.809250936329588"
      ]
     },
     "execution_count": 34,
     "metadata": {},
     "output_type": "execute_result"
    }
   ],
   "source": [
    "forest_scores2 = cross_val_score(forest_clf, X_train2, y_train2, cv=10)\n",
    "forest_scores2.mean()"
   ]
  },
  {
   "cell_type": "markdown",
   "id": "1aaab63f",
   "metadata": {
    "papermill": {
     "duration": 0.093038,
     "end_time": "2022-04-09T19:30:06.700906",
     "exception": false,
     "start_time": "2022-04-09T19:30:06.607868",
     "status": "completed"
    },
    "tags": []
   },
   "source": [
    "* SVC"
   ]
  },
  {
   "cell_type": "code",
   "execution_count": 35,
   "id": "ebf40c4d",
   "metadata": {
    "execution": {
     "iopub.execute_input": "2022-04-09T19:30:06.889203Z",
     "iopub.status.busy": "2022-04-09T19:30:06.888540Z",
     "iopub.status.idle": "2022-04-09T19:30:06.908516Z",
     "shell.execute_reply": "2022-04-09T19:30:06.909100Z",
     "shell.execute_reply.started": "2022-04-09T19:15:40.639812Z"
    },
    "papermill": {
     "duration": 0.115771,
     "end_time": "2022-04-09T19:30:06.909266",
     "exception": false,
     "start_time": "2022-04-09T19:30:06.793495",
     "status": "completed"
    },
    "tags": []
   },
   "outputs": [
    {
     "data": {
      "text/plain": [
       "SVC(gamma='auto')"
      ]
     },
     "execution_count": 35,
     "metadata": {},
     "output_type": "execute_result"
    }
   ],
   "source": [
    "svm_clf.fit(X_train2, y_train2)"
   ]
  },
  {
   "cell_type": "code",
   "execution_count": 36,
   "id": "c403e511",
   "metadata": {
    "execution": {
     "iopub.execute_input": "2022-04-09T19:30:07.098281Z",
     "iopub.status.busy": "2022-04-09T19:30:07.097650Z",
     "iopub.status.idle": "2022-04-09T19:30:07.108809Z",
     "shell.execute_reply": "2022-04-09T19:30:07.109366Z",
     "shell.execute_reply.started": "2022-04-09T19:15:43.301573Z"
    },
    "papermill": {
     "duration": 0.107097,
     "end_time": "2022-04-09T19:30:07.109516",
     "exception": false,
     "start_time": "2022-04-09T19:30:07.002419",
     "status": "completed"
    },
    "tags": []
   },
   "outputs": [],
   "source": [
    "svm_pred = svm_clf.predict(X_test2)"
   ]
  },
  {
   "cell_type": "code",
   "execution_count": 37,
   "id": "aff3fc42",
   "metadata": {
    "execution": {
     "iopub.execute_input": "2022-04-09T19:30:07.299846Z",
     "iopub.status.busy": "2022-04-09T19:30:07.299157Z",
     "iopub.status.idle": "2022-04-09T19:30:07.459312Z",
     "shell.execute_reply": "2022-04-09T19:30:07.459857Z",
     "shell.execute_reply.started": "2022-04-09T19:15:49.282545Z"
    },
    "papermill": {
     "duration": 0.256894,
     "end_time": "2022-04-09T19:30:07.460020",
     "exception": false,
     "start_time": "2022-04-09T19:30:07.203126",
     "status": "completed"
    },
    "tags": []
   },
   "outputs": [
    {
     "data": {
      "text/plain": [
       "0.8361423220973784"
      ]
     },
     "execution_count": 37,
     "metadata": {},
     "output_type": "execute_result"
    }
   ],
   "source": [
    "svm_scores2 = cross_val_score(svm_clf, X_train2, y_train2, cv=10)\n",
    "svm_scores2.mean()"
   ]
  },
  {
   "cell_type": "markdown",
   "id": "fdcaef0d",
   "metadata": {
    "papermill": {
     "duration": 0.092906,
     "end_time": "2022-04-09T19:30:07.646819",
     "exception": false,
     "start_time": "2022-04-09T19:30:07.553913",
     "status": "completed"
    },
    "tags": []
   },
   "source": [
    "변형한 데이터셋에 대한 SVC 모델의 훈련 성능이 증가한 것을 알 수 있다."
   ]
  },
  {
   "cell_type": "code",
   "execution_count": 38,
   "id": "2f697968",
   "metadata": {
    "execution": {
     "iopub.execute_input": "2022-04-09T19:30:07.835873Z",
     "iopub.status.busy": "2022-04-09T19:30:07.835210Z",
     "iopub.status.idle": "2022-04-09T19:30:07.841726Z",
     "shell.execute_reply": "2022-04-09T19:30:07.842286Z",
     "shell.execute_reply.started": "2022-04-09T19:17:01.620557Z"
    },
    "papermill": {
     "duration": 0.102483,
     "end_time": "2022-04-09T19:30:07.842475",
     "exception": false,
     "start_time": "2022-04-09T19:30:07.739992",
     "status": "completed"
    },
    "tags": []
   },
   "outputs": [],
   "source": [
    "submission = pd.DataFrame({\n",
    "     \"PassengerId\": test2[\"PassengerId\"],\n",
    "     \"Survived\": svm_pred\n",
    "})\n",
    "\n",
    "submission.to_csv('submission_svc.csv', index=False)"
   ]
  }
 ],
 "metadata": {
  "kernelspec": {
   "display_name": "Python 3",
   "language": "python",
   "name": "python3"
  },
  "language_info": {
   "codemirror_mode": {
    "name": "ipython",
    "version": 3
   },
   "file_extension": ".py",
   "mimetype": "text/x-python",
   "name": "python",
   "nbconvert_exporter": "python",
   "pygments_lexer": "ipython3",
   "version": "3.7.12"
  },
  "papermill": {
   "default_parameters": {},
   "duration": 24.531601,
   "end_time": "2022-04-09T19:30:08.544371",
   "environment_variables": {},
   "exception": null,
   "input_path": "__notebook__.ipynb",
   "output_path": "__notebook__.ipynb",
   "parameters": {},
   "start_time": "2022-04-09T19:29:44.012770",
   "version": "2.3.3"
  }
 },
 "nbformat": 4,
 "nbformat_minor": 5
}
